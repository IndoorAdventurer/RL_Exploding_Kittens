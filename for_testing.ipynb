{
 "cells": [
  {
   "cell_type": "code",
   "execution_count": 2,
   "metadata": {},
   "outputs": [],
   "source": [
    "from ekenv import EKGame\n",
    "import numpy as np"
   ]
  },
  {
   "cell_type": "code",
   "execution_count": 21,
   "metadata": {},
   "outputs": [
    {
     "name": "stdout",
     "output_type": "stream",
     "text": [
      "[[8. 4. 2. 8. 0. 0. 1. 8. 8. 5. 3. 8. 1. 9. 5.]\n",
      " [8. 6. 3. 9. 8. 8. 8. 0. 7. 0. 9. 3. 9. 4. 9.]\n",
      " [8. 3. 7. 5. 1. 9. 4. 3. 1. 7. 1. 7. 5. 4. 3.]\n",
      " [5. 0. 4. 3. 3. 2. 4. 5. 9. 5. 7. 1. 5. 2. 9.]]\n"
     ]
    }
   ],
   "source": [
    "history = np.random.randint(0, 10, [4, 15]).astype(\"float64\")\n",
    "print(history)"
   ]
  },
  {
   "cell_type": "code",
   "execution_count": 22,
   "metadata": {},
   "outputs": [
    {
     "name": "stdout",
     "output_type": "stream",
     "text": [
      "[[0.9 0.5 0.9 0.1 0.6 0.5 0.9 0.4 0.7 0.3 0.6 0.3 0.7 0.7 0.7]\n",
      " [0.  0.2 0.7 0.  0.8 0.  0.9 0.  0.2 0.1 0.1 0.  0.8 0.2 0.6]\n",
      " [0.9 0.5 0.1 0.3 0.  0.2 0.8 0.2 0.4 0.7 0.1 0.3 0.7 0.4 0.3]]\n"
     ]
    }
   ],
   "source": [
    "actions = np.random.randint(0, 10, [3, 15]).astype(\"float64\") / 10\n",
    "print(actions)"
   ]
  },
  {
   "cell_type": "code",
   "execution_count": 23,
   "metadata": {},
   "outputs": [
    {
     "name": "stdout",
     "output_type": "stream",
     "text": [
      "(1, 4, 15)\n"
     ]
    }
   ],
   "source": [
    "history = np.expand_dims(history, 0)\n",
    "print(history.shape)"
   ]
  },
  {
   "cell_type": "code",
   "execution_count": 24,
   "metadata": {},
   "outputs": [
    {
     "name": "stdout",
     "output_type": "stream",
     "text": [
      "(3, 1, 15)\n"
     ]
    }
   ],
   "source": [
    "actions = np.expand_dims(actions, 1)\n",
    "print(actions.shape)"
   ]
  },
  {
   "cell_type": "code",
   "execution_count": 26,
   "metadata": {},
   "outputs": [
    {
     "name": "stdout",
     "output_type": "stream",
     "text": [
      "(3, 4, 15)\n"
     ]
    }
   ],
   "source": [
    "history = np.repeat(history, 3, axis=0)\n",
    "print(history.shape)"
   ]
  },
  {
   "cell_type": "code",
   "execution_count": 27,
   "metadata": {},
   "outputs": [
    {
     "name": "stdout",
     "output_type": "stream",
     "text": [
      "(3, 5, 15)\n"
     ]
    }
   ],
   "source": [
    "batch = np.concatenate([actions, history], axis = 1)\n",
    "print(batch.shape)"
   ]
  },
  {
   "cell_type": "code",
   "execution_count": 29,
   "metadata": {},
   "outputs": [
    {
     "name": "stdout",
     "output_type": "stream",
     "text": [
      "[6 7 1 1 7 9 4 9 5 4]\n",
      "5\n"
     ]
    }
   ],
   "source": [
    "x = np.random.randint(0, 10, 10)\n",
    "print(x)\n",
    "\n",
    "print(np.argmax(x))"
   ]
  }
 ],
 "metadata": {
  "kernelspec": {
   "display_name": "Python 3",
   "language": "python",
   "name": "python3"
  },
  "language_info": {
   "codemirror_mode": {
    "name": "ipython",
    "version": 3
   },
   "file_extension": ".py",
   "mimetype": "text/x-python",
   "name": "python",
   "nbconvert_exporter": "python",
   "pygments_lexer": "ipython3",
   "version": "3.10.9"
  },
  "orig_nbformat": 4
 },
 "nbformat": 4,
 "nbformat_minor": 2
}
